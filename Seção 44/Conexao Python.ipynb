{
 "cells": [
  {
   "cell_type": "code",
   "execution_count": 1,
   "id": "bb5a3379",
   "metadata": {},
   "outputs": [],
   "source": [
    "# Formação Cientista de Dados\n",
    "# Conexão MongoDB"
   ]
  },
  {
   "cell_type": "code",
   "execution_count": 2,
   "id": "49fa43e3",
   "metadata": {},
   "outputs": [],
   "source": [
    "# pip install pymongo\n",
    "from pymongo import MongoClient"
   ]
  },
  {
   "cell_type": "code",
   "execution_count": 3,
   "id": "c8dcf3fb",
   "metadata": {},
   "outputs": [],
   "source": [
    "# Conexão local padrão\n",
    "cliente = MongoClient('mongodb://localhost:27017/')\n",
    "# Banco dbmidias\n",
    "db = cliente.dbmidias\n",
    "# Coleção Posts\n",
    "conexao = db.posts"
   ]
  },
  {
   "cell_type": "code",
   "execution_count": 4,
   "id": "ca6e075d",
   "metadata": {},
   "outputs": [
    {
     "name": "stdout",
     "output_type": "stream",
     "text": [
      "{'_id': ObjectId('6289581359287cbd9432eb7d'), 'nome': 'José', 'postagem': 'Bons Produtos!', 'data': '31-06-2019'}\n"
     ]
    }
   ],
   "source": [
    "# Um documento\n",
    "print(conexao.find_one())"
   ]
  },
  {
   "cell_type": "code",
   "execution_count": 5,
   "id": "27244bfa",
   "metadata": {},
   "outputs": [
    {
     "name": "stdout",
     "output_type": "stream",
     "text": [
      "{'_id': ObjectId('62895a5f59287cbd9432eb7f'), 'nome': 'Maria Silva', 'postagem': 'Encontrei tudo que procurava', 'data': '14-06-2019'}\n"
     ]
    }
   ],
   "source": [
    "print(conexao.find_one({\"nome\": \"Maria Silva\"}))"
   ]
  },
  {
   "cell_type": "code",
   "execution_count": 6,
   "id": "af40155f",
   "metadata": {},
   "outputs": [
    {
     "name": "stdout",
     "output_type": "stream",
     "text": [
      "{'_id': ObjectId('6289581359287cbd9432eb7d'), 'nome': 'José', 'postagem': 'Bons Produtos!', 'data': '31-06-2019'}\n",
      "{'_id': ObjectId('62895a5f59287cbd9432eb7e'), 'nome': 'Antonio', 'postagem': 'Minha bike quebrou', 'data': '26-05-2019'}\n",
      "{'_id': ObjectId('62895a5f59287cbd9432eb7f'), 'nome': 'Maria Silva', 'postagem': 'Encontrei tudo que procurava', 'data': '14-06-2019'}\n",
      "{'_id': ObjectId('62895a5f59287cbd9432eb80'), 'nome': 'Lucas Andrade', 'postagem': 'Ótimo atendimento!', 'data': '12-04-2019'}\n",
      "{'_id': ObjectId('62895f5e59287cbd9432eb81'), 'nome': 'José', 'postagem': 'Loja Suja', 'data': '30-01-2019'}\n",
      "{'_id': ObjectId('6289618159287cbd9432eb83'), 'nome': 'Ricardo', 'postagem': 'Produtos caros', 'data': '14-07-2019', 'idade': 12.0}\n"
     ]
    }
   ],
   "source": [
    "# Todos\n",
    "for conexao in conexao.find():\n",
    "    print(conexao)"
   ]
  },
  {
   "cell_type": "code",
   "execution_count": 7,
   "id": "f6376eca",
   "metadata": {},
   "outputs": [],
   "source": [
    "# Fecha Conexao\n",
    "cliente.close()"
   ]
  },
  {
   "cell_type": "code",
   "execution_count": null,
   "id": "86f51804",
   "metadata": {},
   "outputs": [],
   "source": []
  }
 ],
 "metadata": {
  "kernelspec": {
   "display_name": "Python 3 (ipykernel)",
   "language": "python",
   "name": "python3"
  },
  "language_info": {
   "codemirror_mode": {
    "name": "ipython",
    "version": 3
   },
   "file_extension": ".py",
   "mimetype": "text/x-python",
   "name": "python",
   "nbconvert_exporter": "python",
   "pygments_lexer": "ipython3",
   "version": "3.9.12"
  }
 },
 "nbformat": 4,
 "nbformat_minor": 5
}
